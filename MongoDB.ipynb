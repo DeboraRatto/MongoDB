{
 "cells": [
  {
   "cell_type": "markdown",
   "id": "5be480ab",
   "metadata": {
    "heading_collapsed": true
   },
   "source": [
    "### 1. Imports:"
   ]
  },
  {
   "cell_type": "code",
   "execution_count": 1,
   "id": "e6a81693",
   "metadata": {
    "ExecuteTime": {
     "end_time": "2023-05-30T12:55:19.987793Z",
     "start_time": "2023-05-30T12:55:19.550633Z"
    },
    "hidden": true
   },
   "outputs": [],
   "source": [
    "import pandas as pd\n",
    "from pymongo import MongoClient"
   ]
  },
  {
   "cell_type": "markdown",
   "id": "9fc68998",
   "metadata": {
    "heading_collapsed": true
   },
   "source": [
    "### 2. Criação dos DataFrames:"
   ]
  },
  {
   "cell_type": "code",
   "execution_count": 2,
   "id": "40079dc2",
   "metadata": {
    "ExecuteTime": {
     "end_time": "2023-05-30T12:55:21.657831Z",
     "start_time": "2023-05-30T12:55:21.631363Z"
    },
    "hidden": true
   },
   "outputs": [
    {
     "name": "stdout",
     "output_type": "stream",
     "text": [
      "     carro       cor   montadora\n",
      "0     Onix     Prata   Chevrolet\n",
      "1     Polo    Branco  Volkswagen\n",
      "2  Sandero     Prata     Renault\n",
      "3   Fiesta  Vermelho        Ford\n",
      "4     City     Preto       Honda\n",
      "    montadora      país\n",
      "0   Chevrolet       EUA\n",
      "1  Volkswagen  Alemanha\n",
      "2     Renault    França\n",
      "3        Ford       EUA\n",
      "4       Honda     Japão\n"
     ]
    }
   ],
   "source": [
    "#Criando tabelas:\n",
    "Carros= [\n",
    "    {'carro': 'Onix', 'cor':'Prata', 'montadora':'Chevrolet'},\n",
    "    {'carro': 'Polo', 'cor':'Branco', 'montadora':'Volkswagen'},\n",
    "    {'carro': 'Sandero', 'cor':'Prata', 'montadora':'Renault'},\n",
    "    {'carro': 'Fiesta', 'cor':'Vermelho', 'montadora':'Ford'},\n",
    "    {'carro': 'City', 'cor':'Preto', 'montadora':'Honda'}\n",
    "]\n",
    "\n",
    "Montadoras= [\n",
    "    {'montadora':'Chevrolet', 'país':'EUA'},\n",
    "    {'montadora':'Volkswagen', 'país':'Alemanha'},\n",
    "    {'montadora':'Renault', 'país':'França'},\n",
    "    {'montadora':'Ford', 'país':'EUA'},\n",
    "    {'montadora':'Honda', 'país':'Japão'}\n",
    "]\n",
    "\n",
    "#Criando DataFrames:\n",
    "df_carros= pd.DataFrame(Carros)\n",
    "\n",
    "df_montadoras= pd.DataFrame(Montadoras)\n",
    "\n",
    "print(df_carros)\n",
    "print(df_montadoras)"
   ]
  },
  {
   "cell_type": "markdown",
   "id": "8c5a27a0",
   "metadata": {
    "heading_collapsed": true
   },
   "source": [
    "### 3. Inserção nas collections do MongoDB:"
   ]
  },
  {
   "cell_type": "markdown",
   "id": "4ba5821a",
   "metadata": {
    "heading_collapsed": true,
    "hidden": true
   },
   "source": [
    "#### Collection Carros:"
   ]
  },
  {
   "cell_type": "code",
   "execution_count": 3,
   "id": "5e25a666",
   "metadata": {
    "ExecuteTime": {
     "end_time": "2023-05-30T12:55:28.684932Z",
     "start_time": "2023-05-30T12:55:28.601595Z"
    },
    "hidden": true
   },
   "outputs": [
    {
     "data": {
      "text/plain": [
       "<pymongo.results.InsertManyResult at 0x17278b05060>"
      ]
     },
     "execution_count": 3,
     "metadata": {},
     "output_type": "execute_result"
    }
   ],
   "source": [
    "#Conectar ao banco: \n",
    "client= MongoClient('mongodb://localhost:27017')\n",
    "db = client['Automoveis'] \n",
    "collection = db['Carros']\n",
    "\n",
    "#Transformar df em dicionário:\n",
    "data_dict = df_carros.to_dict('records')\n",
    "\n",
    "#insirindo na coleção:\n",
    "collection.insert_many(data_dict)"
   ]
  },
  {
   "cell_type": "markdown",
   "id": "54ac898b",
   "metadata": {
    "heading_collapsed": true,
    "hidden": true
   },
   "source": [
    "#### Collection Montadoras:"
   ]
  },
  {
   "cell_type": "code",
   "execution_count": 4,
   "id": "b7602223",
   "metadata": {
    "ExecuteTime": {
     "end_time": "2023-05-30T12:56:52.285442Z",
     "start_time": "2023-05-30T12:56:52.260584Z"
    },
    "hidden": true
   },
   "outputs": [
    {
     "data": {
      "text/plain": [
       "<pymongo.results.InsertManyResult at 0x17279df7250>"
      ]
     },
     "execution_count": 4,
     "metadata": {},
     "output_type": "execute_result"
    }
   ],
   "source": [
    "#Conectar ao banco: \n",
    "client= MongoClient('mongodb://localhost:27017')\n",
    "db = client['Automoveis'] \n",
    "collection = db['Montadoras']\n",
    "\n",
    "#Transformar df em dicionário:\n",
    "data_dict = df_montadoras.to_dict('records')\n",
    "\n",
    "#insirindo na coleção:\n",
    "collection.insert_many(data_dict)"
   ]
  }
 ],
 "metadata": {
  "kernelspec": {
   "display_name": "Python 3 (ipykernel)",
   "language": "python",
   "name": "python3"
  },
  "language_info": {
   "codemirror_mode": {
    "name": "ipython",
    "version": 3
   },
   "file_extension": ".py",
   "mimetype": "text/x-python",
   "name": "python",
   "nbconvert_exporter": "python",
   "pygments_lexer": "ipython3",
   "version": "3.10.11"
  },
  "varInspector": {
   "cols": {
    "lenName": 16,
    "lenType": 16,
    "lenVar": 40
   },
   "kernels_config": {
    "python": {
     "delete_cmd_postfix": "",
     "delete_cmd_prefix": "del ",
     "library": "var_list.py",
     "varRefreshCmd": "print(var_dic_list())"
    },
    "r": {
     "delete_cmd_postfix": ") ",
     "delete_cmd_prefix": "rm(",
     "library": "var_list.r",
     "varRefreshCmd": "cat(var_dic_list()) "
    }
   },
   "types_to_exclude": [
    "module",
    "function",
    "builtin_function_or_method",
    "instance",
    "_Feature"
   ],
   "window_display": false
  }
 },
 "nbformat": 4,
 "nbformat_minor": 5
}
